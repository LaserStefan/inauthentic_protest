{
 "cells": [
  {
   "cell_type": "code",
   "execution_count": 1,
   "id": "b03c1ebc-9520-43a8-9d6d-ad29ee4b4f7a",
   "metadata": {},
   "outputs": [],
   "source": [
    "# Loading the packages required for data analysis\n",
    "import numpy as np \n",
    "import pandas as pd \n",
    "import matplotlib.pyplot as plt\n",
    "from textblob import TextBlob\n",
    "import os\n",
    "import re\n",
    "from os.path import join\n",
    "import seaborn as sns\n",
    "from numpy import nan\n",
    "\n",
    "import nltk\n",
    "from nltk.corpus import stopwords\n",
    "#print(os.listdir(\"/media/s/Linux_storage/Analyse_Verkehrswende_Transformation/Data/Updates\"))"
   ]
  },
  {
   "cell_type": "markdown",
   "id": "b3b10d25-cd36-429d-88e6-a015e1ac928b",
   "metadata": {},
   "source": [
    "The next step converts to datetime65 format and sorts by date."
   ]
  },
  {
   "cell_type": "code",
   "execution_count": 2,
   "id": "1f3c882e-4ada-4618-a634-b2a2a950c39b",
   "metadata": {
    "tags": []
   },
   "outputs": [],
   "source": [
    "src = \"/media/s/Linux_storage/Analyse_Verkehrswende_Transformation/Data/Greenwashing\"\n",
    "\n",
    "fields = ['created_at', 'text']\n",
    "\n",
    "df = pd.read_csv(join(src, 'greenwashing.csv'), encoding='utf-8', dtype='unicode', \n",
    "                   parse_dates=['created_at'], usecols=fields)\n",
    "\n",
    "# df['text'].head()"
   ]
  },
  {
   "cell_type": "markdown",
   "id": "77c19d67-74f0-44c4-8268-d526c1b4a938",
   "metadata": {},
   "source": [
    "## Set up master cleaning function"
   ]
  },
  {
   "cell_type": "code",
   "execution_count": 3,
   "id": "bd57b9d7-fc37-4d18-a4c6-8a9b26891110",
   "metadata": {
    "tags": []
   },
   "outputs": [
    {
     "data": {
      "text/plain": [
       "0    apollon ulysse sisyphe depuis  ans le mythe fe...\n",
       "1    vallois harlesharoche ehuffpost ogerfederer om...\n",
       "2    confused about greenwashing greenwashing is wh...\n",
       "3     confused about greenwashing greenwashing is w...\n",
       "4                                                     \n",
       "Name: clean_text, dtype: object"
      ]
     },
     "execution_count": 3,
     "metadata": {},
     "output_type": "execute_result"
    }
   ],
   "source": [
    "# Standard cleaning tasks for keyword analysis. (Remove redundant words, but keep the main structure of words.)\n",
    "\n",
    "my_stopwords = nltk.corpus.stopwords.words('german', 'english')\n",
    "\n",
    "def remove_links(tweet):\n",
    "    tweet = re.sub(r'http\\S+', '', tweet) # remove http links\n",
    "    tweet = re.sub(r'bit.ly/\\S+', '', tweet) # remove bitly links\n",
    "    tweet = tweet.strip('[link]') # remove [links]\n",
    "    return tweet\n",
    "\n",
    "def remove_users(tweet):\n",
    "    '''Takes a string and removes retweet and @user information'''\n",
    "    tweet = re.sub('RT @[\\w_]+:', '', tweet) # remove retweet ## Alternatives: RT @[\\w_]+: OR (RT\\s@[A-Za-z]+[A-Za-z0-9-_]+)\n",
    "    tweet = re.sub('@[A-Za-z0-9_]', '', tweet) # remove tweeted at ## Alternatives: @[A-Za-z0-9_]+ OR (@[A-Za-z]+[A-Za-z0-9-_]+)\n",
    "    return tweet\n",
    "\n",
    "# cleaning master function\n",
    "def clean_tweet(tweet): \n",
    "    tweet = remove_users(tweet)\n",
    "    tweet = remove_links(tweet)\n",
    "    tweet = tweet.lower() # lower case\n",
    "    tweet = re.sub(r'[^\\w\\s]', ' ', tweet) # strip punctuation\n",
    "    tweet = re.sub('\\s+', ' ', tweet, re.UNICODE) # remove double spacing\n",
    "    tweet = re.sub('([0-9]+)', '', tweet, re.UNICODE) # remove numbers\n",
    "    \n",
    "    return tweet\n",
    "df = df.dropna(subset=['text']) # delete empty rows\n",
    "df['clean_text'] = df['text']\n",
    "df['clean_text'] = df.clean_text.apply(clean_tweet)\n",
    "df['clean_text'].head(5) # Show example output"
   ]
  },
  {
   "cell_type": "code",
   "execution_count": 4,
   "id": "9bfa16ad-9d69-4efe-85f3-0aed8bf38cdd",
   "metadata": {},
   "outputs": [
    {
     "data": {
      "text/plain": [
       "dates\n",
       "2021-07-06 12:14:10    apollon ulysse sisyphe depuis  ans le mythe fe...\n",
       "2021-07-07 01:54:05    vallois harlesharoche ehuffpost ogerfederer om...\n",
       "2021-07-07 01:06:52    confused about greenwashing greenwashing is wh...\n",
       "2021-07-07 01:52:56     confused about greenwashing greenwashing is w...\n",
       "2021-07-07 01:52:30                                                     \n",
       "Name: clean_text, dtype: object"
      ]
     },
     "execution_count": 4,
     "metadata": {},
     "output_type": "execute_result"
    }
   ],
   "source": [
    "reindexed_data = df['clean_text']\n",
    "#reindexed_data.index = pd.DatetimeIndex(pd.date_range(start='2021-06-07', end='2021-07-05 23:00:00', freq=\"1h\"))\n",
    "\n",
    "df['dates'] = pd.to_datetime(df['created_at'].astype('datetime64[ns]').dt.tz_localize('UTC').dt.tz_convert('Europe/Berlin').dt.tz_localize(None))\n",
    "reindexed_data.index = df['dates']\n",
    "reindexed_data.head()"
   ]
  },
  {
   "cell_type": "markdown",
   "id": "1fa67ba9-9fee-4b76-849e-640b423f9007",
   "metadata": {},
   "source": [
    "## Select keywords"
   ]
  },
  {
   "cell_type": "markdown",
   "id": "a4d0a2e2-5ff3-49b4-bb6c-eee84698d4af",
   "metadata": {},
   "source": [
    "The next cell generates columns based on keywords. Check additional research prior to this on which terms may make sense. (Qualitative coding, topic modelling, etc.)"
   ]
  },
  {
   "cell_type": "code",
   "execution_count": 5,
   "id": "027d8157-c91b-4777-8fad-805df21bc5f8",
   "metadata": {},
   "outputs": [],
   "source": [
    "protest = [0]*reindexed_data.shape[0]\n",
    "campaign = [0]*reindexed_data.shape[0]\n",
    "# inauthentic = [0]*reindexed_data.shape[0] # Tested but turned out irrelevant\n",
    "misleading = [0]*reindexed_data.shape[0]\n",
    "truth = [0]*reindexed_data.shape[0]\n",
    "misinformation = [0]*reindexed_data.shape[0]\n",
    "accountability = [0]*reindexed_data.shape[0]\n",
    "# incorrect = [0]*reindexed_data.shape[0] # Tested but turned out irrelevant\n",
    "fake = [0]*reindexed_data.shape[0]\n",
    "pinkwashing = [0]*reindexed_data.shape[0]\n",
    "# deforestation = [0]*reindexed_data.shape[0] # I exclude this data set, because it's peaks are too hiugh.\n",
    "fact = [0]*reindexed_data.shape[0]\n",
    "action = [0]*reindexed_data.shape[0]\n",
    "marketing = [0]*reindexed_data.shape[0]\n",
    "rights = [0]*reindexed_data.shape[0]\n",
    "advertising = [0]*reindexed_data.shape[0]\n",
    "energy = [0]*reindexed_data.shape[0]\n",
    "infrastructure = [0]*reindexed_data.shape[0]\n",
    "train = [0]*reindexed_data.shape[0]\n",
    "resilience = [0]*reindexed_data.shape[0]\n",
    "\n",
    "for i in range(reindexed_data.shape[0]):\n",
    "    words = TextBlob(reindexed_data[i]).words\n",
    "    for word in words:\n",
    "        if word == \"protest\" or word == \"protesting\": protest[i]=1\n",
    "        if word == \"campaign\": campaign[i]=1\n",
    "        #if word == \"incorrect\": incorrect[i]=1\n",
    "        #if word == \"inauthentic\": inauthentic[i]=1\n",
    "        if word == \"true\" or word == \"truth\": truth[i]=1\n",
    "        if word == \"fake\": fake[i]=1\n",
    "        if word == \"misinformation\": misinformation[i]=1\n",
    "        if word == \"accountability\": accountability[i]=1\n",
    "        if word == \"misleading\": misleading[i]=1\n",
    "        if word == \"pinkwashing\": pinkwashing[i]=1\n",
    "        #if word == \"deforestation\": deforestation[i]=1\n",
    "        if word == \"fact\": fact[i]=1\n",
    "        if word == \"action\": action[i]=1\n",
    "        if word == \"marketing\": marketing[i]=1\n",
    "        if word == \"rights\": rights[i]=1\n",
    "        if word == \"advertising\": advertising[i]=1\n",
    "        if energy == \"energy\": energy[i]=1\n",
    "        if infrastructure == \"infrastructure\": infrastructure[i]=1\n",
    "        if train == \"train\": train[i]=1\n",
    "        if resilience == \"resilience\": resilience[i]=1\n",
    "\n",
    "keywords = pd.DataFrame({'clean_text':reindexed_data,\n",
    "                        'protest':protest,\n",
    "                        #'incorrect':incorrect,\n",
    "                        'misinformation':misinformation,\n",
    "                        'accountability':accountability,\n",
    "                        'campaign':campaign,\n",
    "                        #'inauthentic':inauthentic,\n",
    "                        'truth':truth,\n",
    "                        'fact':fact,\n",
    "                        'fake':fake,\n",
    "                        'misleading':misleading,\n",
    "                        'pinkwashing':pinkwashing,\n",
    "                        'action':action,\n",
    "                        'marketing':marketing,\n",
    "                        'rights':rights,\n",
    "                        'advertising':advertising,\n",
    "                        'energy':energy,\n",
    "                        'infrastructure':infrastructure,\n",
    "                        'train':train,\n",
    "                        'resilience':resilience,\n",
    "                        #'deforestation':deforestation,\n",
    "                        }, index=reindexed_data.index)\n",
    "                        \n",
    "#keywords = keywords.reset_index()\n",
    "#keywords.head"
   ]
  },
  {
   "cell_type": "code",
   "execution_count": 25,
   "id": "0b9861e2-5fec-4100-9c5a-713fd7ab6a83",
   "metadata": {
    "tags": []
   },
   "outputs": [
    {
     "data": {
      "text/html": [
       "<div>\n",
       "<style scoped>\n",
       "    .dataframe tbody tr th:only-of-type {\n",
       "        vertical-align: middle;\n",
       "    }\n",
       "\n",
       "    .dataframe tbody tr th {\n",
       "        vertical-align: top;\n",
       "    }\n",
       "\n",
       "    .dataframe thead th {\n",
       "        text-align: right;\n",
       "    }\n",
       "</style>\n",
       "<table border=\"1\" class=\"dataframe\">\n",
       "  <thead>\n",
       "    <tr style=\"text-align: right;\">\n",
       "      <th></th>\n",
       "      <th>clean_text</th>\n",
       "      <th>protest</th>\n",
       "      <th>misinformation</th>\n",
       "      <th>accountability</th>\n",
       "      <th>campaign</th>\n",
       "      <th>truth</th>\n",
       "      <th>fact</th>\n",
       "      <th>fake</th>\n",
       "      <th>misleading</th>\n",
       "      <th>pinkwashing</th>\n",
       "      <th>action</th>\n",
       "      <th>marketing</th>\n",
       "      <th>rights</th>\n",
       "      <th>advertising</th>\n",
       "    </tr>\n",
       "    <tr>\n",
       "      <th>dates</th>\n",
       "      <th></th>\n",
       "      <th></th>\n",
       "      <th></th>\n",
       "      <th></th>\n",
       "      <th></th>\n",
       "      <th></th>\n",
       "      <th></th>\n",
       "      <th></th>\n",
       "      <th></th>\n",
       "      <th></th>\n",
       "      <th></th>\n",
       "      <th></th>\n",
       "      <th></th>\n",
       "      <th></th>\n",
       "    </tr>\n",
       "  </thead>\n",
       "  <tbody>\n",
       "    <tr>\n",
       "      <th>2021-07-06 12:14:10</th>\n",
       "      <td>apollon ulysse sisyphe depuis  ans le mythe fe...</td>\n",
       "      <td>0</td>\n",
       "      <td>0</td>\n",
       "      <td>0</td>\n",
       "      <td>0</td>\n",
       "      <td>0</td>\n",
       "      <td>0</td>\n",
       "      <td>0</td>\n",
       "      <td>0</td>\n",
       "      <td>0</td>\n",
       "      <td>0</td>\n",
       "      <td>0</td>\n",
       "      <td>0</td>\n",
       "      <td>0</td>\n",
       "    </tr>\n",
       "    <tr>\n",
       "      <th>2021-07-07 01:54:05</th>\n",
       "      <td>vallois harlesharoche ehuffpost ogerfederer om...</td>\n",
       "      <td>0</td>\n",
       "      <td>0</td>\n",
       "      <td>0</td>\n",
       "      <td>0</td>\n",
       "      <td>0</td>\n",
       "      <td>0</td>\n",
       "      <td>0</td>\n",
       "      <td>0</td>\n",
       "      <td>0</td>\n",
       "      <td>0</td>\n",
       "      <td>0</td>\n",
       "      <td>0</td>\n",
       "      <td>0</td>\n",
       "    </tr>\n",
       "    <tr>\n",
       "      <th>2021-07-07 01:06:52</th>\n",
       "      <td>confused about greenwashing greenwashing is wh...</td>\n",
       "      <td>0</td>\n",
       "      <td>0</td>\n",
       "      <td>0</td>\n",
       "      <td>0</td>\n",
       "      <td>0</td>\n",
       "      <td>0</td>\n",
       "      <td>0</td>\n",
       "      <td>1</td>\n",
       "      <td>0</td>\n",
       "      <td>0</td>\n",
       "      <td>0</td>\n",
       "      <td>0</td>\n",
       "      <td>0</td>\n",
       "    </tr>\n",
       "    <tr>\n",
       "      <th>2021-07-07 01:52:56</th>\n",
       "      <td>confused about greenwashing greenwashing is w...</td>\n",
       "      <td>0</td>\n",
       "      <td>0</td>\n",
       "      <td>0</td>\n",
       "      <td>0</td>\n",
       "      <td>0</td>\n",
       "      <td>0</td>\n",
       "      <td>0</td>\n",
       "      <td>1</td>\n",
       "      <td>0</td>\n",
       "      <td>0</td>\n",
       "      <td>0</td>\n",
       "      <td>0</td>\n",
       "      <td>0</td>\n",
       "    </tr>\n",
       "    <tr>\n",
       "      <th>2021-07-07 01:52:30</th>\n",
       "      <td></td>\n",
       "      <td>0</td>\n",
       "      <td>0</td>\n",
       "      <td>0</td>\n",
       "      <td>0</td>\n",
       "      <td>0</td>\n",
       "      <td>0</td>\n",
       "      <td>0</td>\n",
       "      <td>0</td>\n",
       "      <td>0</td>\n",
       "      <td>0</td>\n",
       "      <td>0</td>\n",
       "      <td>0</td>\n",
       "      <td>0</td>\n",
       "    </tr>\n",
       "  </tbody>\n",
       "</table>\n",
       "</div>"
      ],
      "text/plain": [
       "                                                            clean_text  \\\n",
       "dates                                                                    \n",
       "2021-07-06 12:14:10  apollon ulysse sisyphe depuis  ans le mythe fe...   \n",
       "2021-07-07 01:54:05  vallois harlesharoche ehuffpost ogerfederer om...   \n",
       "2021-07-07 01:06:52  confused about greenwashing greenwashing is wh...   \n",
       "2021-07-07 01:52:56   confused about greenwashing greenwashing is w...   \n",
       "2021-07-07 01:52:30                                                      \n",
       "\n",
       "                     protest  misinformation  accountability  campaign  truth  \\\n",
       "dates                                                                           \n",
       "2021-07-06 12:14:10        0               0               0         0      0   \n",
       "2021-07-07 01:54:05        0               0               0         0      0   \n",
       "2021-07-07 01:06:52        0               0               0         0      0   \n",
       "2021-07-07 01:52:56        0               0               0         0      0   \n",
       "2021-07-07 01:52:30        0               0               0         0      0   \n",
       "\n",
       "                     fact  fake  misleading  pinkwashing  action  marketing  \\\n",
       "dates                                                                         \n",
       "2021-07-06 12:14:10     0     0           0            0       0          0   \n",
       "2021-07-07 01:54:05     0     0           0            0       0          0   \n",
       "2021-07-07 01:06:52     0     0           1            0       0          0   \n",
       "2021-07-07 01:52:56     0     0           1            0       0          0   \n",
       "2021-07-07 01:52:30     0     0           0            0       0          0   \n",
       "\n",
       "                     rights  advertising  \n",
       "dates                                     \n",
       "2021-07-06 12:14:10       0            0  \n",
       "2021-07-07 01:54:05       0            0  \n",
       "2021-07-07 01:06:52       0            0  \n",
       "2021-07-07 01:52:56       0            0  \n",
       "2021-07-07 01:52:30       0            0  "
      ]
     },
     "execution_count": 25,
     "metadata": {},
     "output_type": "execute_result"
    }
   ],
   "source": [
    "# sanity check\n",
    "keywords.head()"
   ]
  },
  {
   "cell_type": "markdown",
   "id": "6242da15-4325-4a94-95de-cd76c5671628",
   "metadata": {},
   "source": [
    "The following cells offer different options to select the data based on time groupings. Choose between day, month or hour."
   ]
  },
  {
   "cell_type": "code",
   "execution_count": 91,
   "id": "664d6984-b076-47f3-a027-4026dfdbf8c4",
   "metadata": {
    "collapsed": true,
    "jupyter": {
     "outputs_hidden": true,
     "source_hidden": true
    },
    "tags": []
   },
   "outputs": [
    {
     "ename": "TypeError",
     "evalue": "Only valid with DatetimeIndex, TimedeltaIndex or PeriodIndex, but got an instance of 'RangeIndex'",
     "output_type": "error",
     "traceback": [
      "\u001b[0;31m---------------------------------------------------------------------------\u001b[0m",
      "\u001b[0;31mTypeError\u001b[0m                                 Traceback (most recent call last)",
      "\u001b[0;32m<ipython-input-91-565c61825de2>\u001b[0m in \u001b[0;36m<module>\u001b[0;34m\u001b[0m\n\u001b[0;32m----> 1\u001b[0;31m \u001b[0mminutes\u001b[0m \u001b[0;34m=\u001b[0m \u001b[0mkeywords\u001b[0m\u001b[0;34m.\u001b[0m\u001b[0mresample\u001b[0m\u001b[0;34m(\u001b[0m\u001b[0;34m'D'\u001b[0m\u001b[0;34m)\u001b[0m\u001b[0;34m.\u001b[0m\u001b[0msum\u001b[0m\u001b[0;34m(\u001b[0m\u001b[0;34m)\u001b[0m\u001b[0;34m\u001b[0m\u001b[0;34m\u001b[0m\u001b[0m\n\u001b[0m\u001b[1;32m      2\u001b[0m \u001b[0mminutes\u001b[0m\u001b[0;34m\u001b[0m\u001b[0;34m\u001b[0m\u001b[0m\n",
      "\u001b[0;32m~/.local/lib/python3.8/site-packages/pandas/core/generic.py\u001b[0m in \u001b[0;36mresample\u001b[0;34m(self, rule, axis, closed, label, convention, kind, loffset, base, on, level, origin, offset)\u001b[0m\n\u001b[1;32m   8367\u001b[0m \u001b[0;34m\u001b[0m\u001b[0m\n\u001b[1;32m   8368\u001b[0m         \u001b[0maxis\u001b[0m \u001b[0;34m=\u001b[0m \u001b[0mself\u001b[0m\u001b[0;34m.\u001b[0m\u001b[0m_get_axis_number\u001b[0m\u001b[0;34m(\u001b[0m\u001b[0maxis\u001b[0m\u001b[0;34m)\u001b[0m\u001b[0;34m\u001b[0m\u001b[0;34m\u001b[0m\u001b[0m\n\u001b[0;32m-> 8369\u001b[0;31m         return get_resampler(\n\u001b[0m\u001b[1;32m   8370\u001b[0m             \u001b[0mself\u001b[0m\u001b[0;34m,\u001b[0m\u001b[0;34m\u001b[0m\u001b[0;34m\u001b[0m\u001b[0m\n\u001b[1;32m   8371\u001b[0m             \u001b[0mfreq\u001b[0m\u001b[0;34m=\u001b[0m\u001b[0mrule\u001b[0m\u001b[0;34m,\u001b[0m\u001b[0;34m\u001b[0m\u001b[0;34m\u001b[0m\u001b[0m\n",
      "\u001b[0;32m~/.local/lib/python3.8/site-packages/pandas/core/resample.py\u001b[0m in \u001b[0;36mget_resampler\u001b[0;34m(obj, kind, **kwds)\u001b[0m\n\u001b[1;32m   1309\u001b[0m     \"\"\"\n\u001b[1;32m   1310\u001b[0m     \u001b[0mtg\u001b[0m \u001b[0;34m=\u001b[0m \u001b[0mTimeGrouper\u001b[0m\u001b[0;34m(\u001b[0m\u001b[0;34m**\u001b[0m\u001b[0mkwds\u001b[0m\u001b[0;34m)\u001b[0m\u001b[0;34m\u001b[0m\u001b[0;34m\u001b[0m\u001b[0m\n\u001b[0;32m-> 1311\u001b[0;31m     \u001b[0;32mreturn\u001b[0m \u001b[0mtg\u001b[0m\u001b[0;34m.\u001b[0m\u001b[0m_get_resampler\u001b[0m\u001b[0;34m(\u001b[0m\u001b[0mobj\u001b[0m\u001b[0;34m,\u001b[0m \u001b[0mkind\u001b[0m\u001b[0;34m=\u001b[0m\u001b[0mkind\u001b[0m\u001b[0;34m)\u001b[0m\u001b[0;34m\u001b[0m\u001b[0;34m\u001b[0m\u001b[0m\n\u001b[0m\u001b[1;32m   1312\u001b[0m \u001b[0;34m\u001b[0m\u001b[0m\n\u001b[1;32m   1313\u001b[0m \u001b[0;34m\u001b[0m\u001b[0m\n",
      "\u001b[0;32m~/.local/lib/python3.8/site-packages/pandas/core/resample.py\u001b[0m in \u001b[0;36m_get_resampler\u001b[0;34m(self, obj, kind)\u001b[0m\n\u001b[1;32m   1474\u001b[0m             \u001b[0;32mreturn\u001b[0m \u001b[0mTimedeltaIndexResampler\u001b[0m\u001b[0;34m(\u001b[0m\u001b[0mobj\u001b[0m\u001b[0;34m,\u001b[0m \u001b[0mgroupby\u001b[0m\u001b[0;34m=\u001b[0m\u001b[0mself\u001b[0m\u001b[0;34m,\u001b[0m \u001b[0maxis\u001b[0m\u001b[0;34m=\u001b[0m\u001b[0mself\u001b[0m\u001b[0;34m.\u001b[0m\u001b[0maxis\u001b[0m\u001b[0;34m)\u001b[0m\u001b[0;34m\u001b[0m\u001b[0;34m\u001b[0m\u001b[0m\n\u001b[1;32m   1475\u001b[0m \u001b[0;34m\u001b[0m\u001b[0m\n\u001b[0;32m-> 1476\u001b[0;31m         raise TypeError(\n\u001b[0m\u001b[1;32m   1477\u001b[0m             \u001b[0;34m\"Only valid with DatetimeIndex, \"\u001b[0m\u001b[0;34m\u001b[0m\u001b[0;34m\u001b[0m\u001b[0m\n\u001b[1;32m   1478\u001b[0m             \u001b[0;34m\"TimedeltaIndex or PeriodIndex, \"\u001b[0m\u001b[0;34m\u001b[0m\u001b[0;34m\u001b[0m\u001b[0m\n",
      "\u001b[0;31mTypeError\u001b[0m: Only valid with DatetimeIndex, TimedeltaIndex or PeriodIndex, but got an instance of 'RangeIndex'"
     ]
    }
   ],
   "source": [
    "minutes = keywords.resample('D').sum()\n",
    "minutes"
   ]
  },
  {
   "cell_type": "code",
   "execution_count": 26,
   "id": "e9556488-226a-49b3-abcb-9a6169f2cdf9",
   "metadata": {
    "jupyter": {
     "source_hidden": true
    },
    "tags": []
   },
   "outputs": [
    {
     "name": "stderr",
     "output_type": "stream",
     "text": [
      "<ipython-input-26-9fa12d2d43a6>:3: FutureWarning: Value based partial slicing on non-monotonic DatetimeIndexes with non-existing keys is deprecated and will raise a KeyError in a future Version.\n",
      "  daily = keywords.loc['2020-11-01':'2021-07-06'].reset_index() # Maybe add:\n"
     ]
    },
    {
     "data": {
      "text/html": [
       "<div>\n",
       "<style scoped>\n",
       "    .dataframe tbody tr th:only-of-type {\n",
       "        vertical-align: middle;\n",
       "    }\n",
       "\n",
       "    .dataframe tbody tr th {\n",
       "        vertical-align: top;\n",
       "    }\n",
       "\n",
       "    .dataframe thead th {\n",
       "        text-align: right;\n",
       "    }\n",
       "</style>\n",
       "<table border=\"1\" class=\"dataframe\">\n",
       "  <thead>\n",
       "    <tr style=\"text-align: right;\">\n",
       "      <th></th>\n",
       "      <th>dates</th>\n",
       "      <th>clean_text</th>\n",
       "      <th>protest</th>\n",
       "      <th>misinformation</th>\n",
       "      <th>accountability</th>\n",
       "      <th>campaign</th>\n",
       "      <th>truth</th>\n",
       "      <th>fact</th>\n",
       "      <th>fake</th>\n",
       "      <th>misleading</th>\n",
       "      <th>pinkwashing</th>\n",
       "      <th>action</th>\n",
       "      <th>marketing</th>\n",
       "      <th>rights</th>\n",
       "      <th>advertising</th>\n",
       "    </tr>\n",
       "  </thead>\n",
       "  <tbody>\n",
       "    <tr>\n",
       "      <th>0</th>\n",
       "      <td>2021-07-06 12:14:10</td>\n",
       "      <td>apollon ulysse sisyphe depuis  ans le mythe fe...</td>\n",
       "      <td>0</td>\n",
       "      <td>0</td>\n",
       "      <td>0</td>\n",
       "      <td>0</td>\n",
       "      <td>0</td>\n",
       "      <td>0</td>\n",
       "      <td>0</td>\n",
       "      <td>0</td>\n",
       "      <td>0</td>\n",
       "      <td>0</td>\n",
       "      <td>0</td>\n",
       "      <td>0</td>\n",
       "      <td>0</td>\n",
       "    </tr>\n",
       "    <tr>\n",
       "      <th>1</th>\n",
       "      <td>2021-07-06 21:46:47</td>\n",
       "      <td>i don t know if there will be a human civilisa...</td>\n",
       "      <td>0</td>\n",
       "      <td>0</td>\n",
       "      <td>0</td>\n",
       "      <td>0</td>\n",
       "      <td>0</td>\n",
       "      <td>0</td>\n",
       "      <td>0</td>\n",
       "      <td>0</td>\n",
       "      <td>0</td>\n",
       "      <td>0</td>\n",
       "      <td>0</td>\n",
       "      <td>0</td>\n",
       "      <td>0</td>\n",
       "    </tr>\n",
       "    <tr>\n",
       "      <th>2</th>\n",
       "      <td>2021-07-06 20:40:13</td>\n",
       "      <td>if we can t stop fossil fuel companies from po...</td>\n",
       "      <td>0</td>\n",
       "      <td>0</td>\n",
       "      <td>0</td>\n",
       "      <td>0</td>\n",
       "      <td>0</td>\n",
       "      <td>0</td>\n",
       "      <td>0</td>\n",
       "      <td>0</td>\n",
       "      <td>0</td>\n",
       "      <td>0</td>\n",
       "      <td>0</td>\n",
       "      <td>0</td>\n",
       "      <td>0</td>\n",
       "    </tr>\n",
       "    <tr>\n",
       "      <th>3</th>\n",
       "      <td>2021-07-06 05:37:03</td>\n",
       "      <td>extyrrellpvq now shut down hydro quebec export...</td>\n",
       "      <td>0</td>\n",
       "      <td>0</td>\n",
       "      <td>0</td>\n",
       "      <td>0</td>\n",
       "      <td>0</td>\n",
       "      <td>0</td>\n",
       "      <td>0</td>\n",
       "      <td>0</td>\n",
       "      <td>0</td>\n",
       "      <td>0</td>\n",
       "      <td>0</td>\n",
       "      <td>0</td>\n",
       "      <td>0</td>\n",
       "    </tr>\n",
       "    <tr>\n",
       "      <th>4</th>\n",
       "      <td>2021-07-04 21:19:12</td>\n",
       "      <td>asticmakers this is epic greenwashing we are n...</td>\n",
       "      <td>0</td>\n",
       "      <td>0</td>\n",
       "      <td>0</td>\n",
       "      <td>0</td>\n",
       "      <td>0</td>\n",
       "      <td>0</td>\n",
       "      <td>0</td>\n",
       "      <td>0</td>\n",
       "      <td>0</td>\n",
       "      <td>0</td>\n",
       "      <td>0</td>\n",
       "      <td>0</td>\n",
       "      <td>0</td>\n",
       "    </tr>\n",
       "  </tbody>\n",
       "</table>\n",
       "</div>"
      ],
      "text/plain": [
       "                dates                                         clean_text  \\\n",
       "0 2021-07-06 12:14:10  apollon ulysse sisyphe depuis  ans le mythe fe...   \n",
       "1 2021-07-06 21:46:47  i don t know if there will be a human civilisa...   \n",
       "2 2021-07-06 20:40:13  if we can t stop fossil fuel companies from po...   \n",
       "3 2021-07-06 05:37:03  extyrrellpvq now shut down hydro quebec export...   \n",
       "4 2021-07-04 21:19:12  asticmakers this is epic greenwashing we are n...   \n",
       "\n",
       "   protest  misinformation  accountability  campaign  truth  fact  fake  \\\n",
       "0        0               0               0         0      0     0     0   \n",
       "1        0               0               0         0      0     0     0   \n",
       "2        0               0               0         0      0     0     0   \n",
       "3        0               0               0         0      0     0     0   \n",
       "4        0               0               0         0      0     0     0   \n",
       "\n",
       "   misleading  pinkwashing  action  marketing  rights  advertising  \n",
       "0           0            0       0          0       0            0  \n",
       "1           0            0       0          0       0            0  \n",
       "2           0            0       0          0       0            0  \n",
       "3           0            0       0          0       0            0  \n",
       "4           0            0       0          0       0            0  "
      ]
     },
     "execution_count": 26,
     "metadata": {},
     "output_type": "execute_result"
    }
   ],
   "source": [
    "#daily = keywords.resample('D').sum()\n",
    "# monthly = keywords.resample('M').sum()\n",
    "daily = keywords.loc['2020-11-01':'2021-07-06'].reset_index() # Maybe add: \n",
    "daily.head()"
   ]
  },
  {
   "cell_type": "code",
   "execution_count": 7,
   "id": "da862c3b-4b21-430a-b8ef-fe4e7a8e542a",
   "metadata": {
    "tags": []
   },
   "outputs": [
    {
     "name": "stderr",
     "output_type": "stream",
     "text": [
      "<ipython-input-7-50976821bd38>:3: FutureWarning: Value based partial slicing on non-monotonic DatetimeIndexes with non-existing keys is deprecated and will raise a KeyError in a future Version.\n",
      "  daily = keywords.loc['2020-1-01':'2021-06-06'].reset_index() # Set time frame\n"
     ]
    }
   ],
   "source": [
    "daily = keywords.resample('D').sum()\n",
    "# monthly = keywords.resample('M').sum()\n",
    "daily = keywords.loc['2020-1-01':'2021-06-06'].reset_index() # Set time frame\n",
    "#daily.head"
   ]
  },
  {
   "cell_type": "code",
   "execution_count": 8,
   "id": "8969d173-af61-4dbf-822b-1942e124fd82",
   "metadata": {
    "tags": []
   },
   "outputs": [
    {
     "data": {
      "text/html": [
       "<div>\n",
       "<style scoped>\n",
       "    .dataframe tbody tr th:only-of-type {\n",
       "        vertical-align: middle;\n",
       "    }\n",
       "\n",
       "    .dataframe tbody tr th {\n",
       "        vertical-align: top;\n",
       "    }\n",
       "\n",
       "    .dataframe thead th {\n",
       "        text-align: right;\n",
       "    }\n",
       "</style>\n",
       "<table border=\"1\" class=\"dataframe\">\n",
       "  <thead>\n",
       "    <tr style=\"text-align: right;\">\n",
       "      <th></th>\n",
       "      <th>dates</th>\n",
       "      <th>variable</th>\n",
       "      <th>value</th>\n",
       "    </tr>\n",
       "  </thead>\n",
       "  <tbody>\n",
       "    <tr>\n",
       "      <th>0</th>\n",
       "      <td>2021-04-22 08:43:17</td>\n",
       "      <td>protest</td>\n",
       "      <td>0</td>\n",
       "    </tr>\n",
       "    <tr>\n",
       "      <th>1</th>\n",
       "      <td>2020-08-16 22:25:24</td>\n",
       "      <td>protest</td>\n",
       "      <td>0</td>\n",
       "    </tr>\n",
       "    <tr>\n",
       "      <th>2</th>\n",
       "      <td>2021-06-04 15:31:33</td>\n",
       "      <td>protest</td>\n",
       "      <td>0</td>\n",
       "    </tr>\n",
       "    <tr>\n",
       "      <th>3</th>\n",
       "      <td>2021-03-08 23:59:39</td>\n",
       "      <td>protest</td>\n",
       "      <td>0</td>\n",
       "    </tr>\n",
       "    <tr>\n",
       "      <th>4</th>\n",
       "      <td>2020-06-30 17:28:46</td>\n",
       "      <td>protest</td>\n",
       "      <td>0</td>\n",
       "    </tr>\n",
       "    <tr>\n",
       "      <th>...</th>\n",
       "      <td>...</td>\n",
       "      <td>...</td>\n",
       "      <td>...</td>\n",
       "    </tr>\n",
       "    <tr>\n",
       "      <th>7856273</th>\n",
       "      <td>2020-01-01 00:36:15</td>\n",
       "      <td>resilience</td>\n",
       "      <td>0</td>\n",
       "    </tr>\n",
       "    <tr>\n",
       "      <th>7856274</th>\n",
       "      <td>2020-01-01 00:15:41</td>\n",
       "      <td>resilience</td>\n",
       "      <td>0</td>\n",
       "    </tr>\n",
       "    <tr>\n",
       "      <th>7856275</th>\n",
       "      <td>2020-01-01 00:16:26</td>\n",
       "      <td>resilience</td>\n",
       "      <td>0</td>\n",
       "    </tr>\n",
       "    <tr>\n",
       "      <th>7856276</th>\n",
       "      <td>2020-01-01 00:06:25</td>\n",
       "      <td>resilience</td>\n",
       "      <td>0</td>\n",
       "    </tr>\n",
       "    <tr>\n",
       "      <th>7856277</th>\n",
       "      <td>2020-01-01 00:00:27</td>\n",
       "      <td>resilience</td>\n",
       "      <td>0</td>\n",
       "    </tr>\n",
       "  </tbody>\n",
       "</table>\n",
       "<p>7856278 rows × 3 columns</p>\n",
       "</div>"
      ],
      "text/plain": [
       "                      dates    variable  value\n",
       "0       2021-04-22 08:43:17     protest      0\n",
       "1       2020-08-16 22:25:24     protest      0\n",
       "2       2021-06-04 15:31:33     protest      0\n",
       "3       2021-03-08 23:59:39     protest      0\n",
       "4       2020-06-30 17:28:46     protest      0\n",
       "...                     ...         ...    ...\n",
       "7856273 2020-01-01 00:36:15  resilience      0\n",
       "7856274 2020-01-01 00:15:41  resilience      0\n",
       "7856275 2020-01-01 00:16:26  resilience      0\n",
       "7856276 2020-01-01 00:06:25  resilience      0\n",
       "7856277 2020-01-01 00:00:27  resilience      0\n",
       "\n",
       "[7856278 rows x 3 columns]"
      ]
     },
     "execution_count": 8,
     "metadata": {},
     "output_type": "execute_result"
    }
   ],
   "source": [
    "# transform from wide to long\n",
    "melted = daily.drop(['clean_text'], axis=1, inplace=True)\n",
    "melted = daily.melt(id_vars=['dates'])\n",
    "melted"
   ]
  },
  {
   "cell_type": "markdown",
   "id": "456fad26-1385-4a79-bd87-f51e104ba74a",
   "metadata": {},
   "source": [
    "## Exploring keyword time series"
   ]
  },
  {
   "cell_type": "code",
   "execution_count": 27,
   "id": "d310e472-b8c8-4f9a-9328-43e604f1b51d",
   "metadata": {
    "tags": []
   },
   "outputs": [
    {
     "data": {
      "image/png": "[encoded data removed]",
      "text/plain": [
       "<Figure size 792x360 with 5 Axes>"
      ]
     },
     "metadata": {
      "needs_background": "light"
     },
     "output_type": "display_data"
    }
   ],
   "source": [
    "# Generate a seaborn plot with subplots, all sharing the first plot's x axis. \n",
    "\n",
    "import seaborn\n",
    "\n",
    "fig, ax = plt.subplots(5, sharex=True, sharey=True, figsize=(11,5))\n",
    "\n",
    "fig.suptitle('Tweet Frequency over Time per Keyword', fontsize=16)\n",
    "\n",
    "# Add subplots \n",
    "\n",
    "ax[0].plot(daily['greenmarketing'], label='greenmarketing');\n",
    "ax[0].fill_between(daily.index, daily['greenmarketing'], color='#539ecd')\n",
    "#ax[0].text(pd.to_datetime('2014-05-31'), 250, '#greenmarketing', fontsize=12, color='#1f77b4')\n",
    "ax[0].set_xlim(pd.to_datetime('2014-01-01'), pd.to_datetime('2021-07-06')) # Set dates on x axes\n",
    "#ax[0].set_title('greenmarketing')\n",
    "\n",
    "ax[1].plot(daily['climateaction'], label='climateaction');\n",
    "ax[1].fill_between(daily.index, daily['climateaction'], color='#539ecd')\n",
    "#ax[1].text(pd.to_datetime('2014-05-31'), 250, 'climateaction', fontsize=12, color='#1f77b4')\n",
    "#ax[1].set_title('climateaction')\n",
    "\n",
    "#ax[2].plot(daily['greenwashing'], label='greenwashing');\n",
    "#ax[2].fill_between(daily.index, daily['greenwashing'], color='#539ecd')\n",
    "#ax[2].text(pd.to_datetime('2014-05-31'), 250, 'greenwashing', fontsize=12, color='#1f77b4')\n",
    "#ax[2].set_title('climateaction')\n",
    "\n",
    "ax[2].plot(daily['pinkwashing'], label='pinkwashing');\n",
    "ax[2].fill_between(daily.index, daily['pinkwashing'], color='#539ecd')\n",
    "#ax[2].text(pd.to_datetime('2014-05-31'), 250, 'pinkwashing', fontsize=12, color='#1f77b4')\n",
    "#ax[2].set_title('pinkwashing')\n",
    "\n",
    "ax[3].plot(daily['deforestation'], label='deforestation');\n",
    "ax[3].fill_between(daily.index, daily['deforestation'], color='#539ecd')\n",
    "#ax[3].text(pd.to_datetime('2014-05-31'), 250, 'deforestation', fontsize=12, color='#1f77b4')\n",
    "#ax[3].set_title('deforestation')\n",
    "\n",
    "ax[4].plot(daily['fridaysforfuture'], label='fridaysforfuture');\n",
    "ax[4].fill_between(daily.index, daily['fridaysforfuture'], color='#539ecd')\n",
    "#ax[4].text(pd.to_datetime('2014-05-31'), 250, 'FridaysForFuture', fontsize=12, color='#1f77b4')\n",
    "#ax[4].set_title('FridaysForFuture')\n",
    "\n",
    "\n",
    "#plt.xticks([pd.to_datetime('2021-06-09'), pd.to_datetime('2021-06-14'), pd.to_datetime('2021-06-19'), pd.to_datetime('2021-06-24'), pd.to_datetime('2021-06-29'), pd.to_datetime('2021-07-04')])\n",
    "plt.xticks(rotation=45)\n",
    "\n",
    "t = np.arange(0, 1, 0.01)\n",
    "\n",
    "for i, a in enumerate(ax):\n",
    "    a.plot(t, np.sin((i + 1) * 2 * np.pi * t))\n",
    "\n",
    "seaborn.despine(left=True, bottom=True, right=True)\n",
    "\n",
    "fig.tight_layout()\n",
    "#fig.savefig('../tweet_freq_keywords.png', dpi=300)"
   ]
  },
  {
   "cell_type": "markdown",
   "id": "6e0bd240-f475-4a19-a8ac-9b6cfee0fa73",
   "metadata": {},
   "source": [
    "## Word Tree"
   ]
  },
  {
   "cell_type": "markdown",
   "id": "3dbf2dc4-2717-48af-a0e9-acd0d800aa89",
   "metadata": {},
   "source": [
    "We created multiple wordtrees based on the dataset, below you see the main code. The results can be found in the ```plots``` folder."
   ]
  },
  {
   "cell_type": "code",
   "execution_count": 59,
   "id": "1c3f8b2e-a6df-499c-8f94-33dbb53ee588",
   "metadata": {
    "tags": []
   },
   "outputs": [
    {
     "data": {
      "application/vnd.jupyter.widget-view+json": {
       "model_id": "16883d72b0f940dfab7f1ddf02065e02",
       "version_major": 2,
       "version_minor": 0
      },
      "text/plain": [
       "  0%|          | 0/935965 [00:00<?, ?it/s]"
      ]
     },
     "metadata": {},
     "output_type": "display_data"
    },
    {
     "data": {
      "text/plain": [
       "'/media/s/Linux_storage/Analyse_Verkehrswende_Transformation/plots/Greenwashing/wordtree_misinformation.png.png'"
      ]
     },
     "execution_count": 59,
     "metadata": {},
     "output_type": "execute_result"
    }
   ],
   "source": [
    "import wordtree\n",
    "documents = df['clean_text']\n",
    "g = wordtree.search_and_draw(corpus = documents, keyword = \"misinformation\", max_n=5, max_per_n = 15)\n",
    "g.render('/media/s/Linux_storage/Analyse_Verkehrswende_Transformation/plots/Greenwashing/wordtree_misinformation.png')"
   ]
  },
  {
   "cell_type": "code",
   "execution_count": 60,
   "id": "094088fe-3a81-4ffd-9730-8b170980c72e",
   "metadata": {
    "tags": []
   },
   "outputs": [
    {
     "data": {
      "application/vnd.jupyter.widget-view+json": {
       "model_id": "cdae053c5efd48aeab928c22f9456b92",
       "version_major": 2,
       "version_minor": 0
      },
      "text/plain": [
       "  0%|          | 0/935965 [00:00<?, ?it/s]"
      ]
     },
     "metadata": {},
     "output_type": "display_data"
    },
    {
     "data": {
      "text/plain": [
       "'/media/s/Linux_storage/Analyse_Verkehrswende_Transformation/plots/Greenwashing/wordtree_accountability.png.png'"
      ]
     },
     "execution_count": 60,
     "metadata": {},
     "output_type": "execute_result"
    }
   ],
   "source": [
    "documents = df['clean_text']\n",
    "g = wordtree.search_and_draw(corpus = documents, keyword = \"accountability\", max_n=5, max_per_n = 15)\n",
    "g.render('/media/s/Linux_storage/Analyse_Verkehrswende_Transformation/plots/Greenwashing/wordtree_accountability.png')"
   ]
  },
  {
   "cell_type": "code",
   "execution_count": 61,
   "id": "ad527c43-cf4b-4124-b120-7f25a10f5815",
   "metadata": {
    "tags": []
   },
   "outputs": [
    {
     "data": {
      "application/vnd.jupyter.widget-view+json": {
       "model_id": "91c97cfdfa0e4241ab9268d0be42cfa0",
       "version_major": 2,
       "version_minor": 0
      },
      "text/plain": [
       "  0%|          | 0/935965 [00:00<?, ?it/s]"
      ]
     },
     "metadata": {},
     "output_type": "display_data"
    },
    {
     "data": {
      "text/plain": [
       "'/media/s/Linux_storage/Analyse_Verkehrswende_Transformation/plots/Greenwashing/wordtree_campaign.png.png'"
      ]
     },
     "execution_count": 61,
     "metadata": {},
     "output_type": "execute_result"
    }
   ],
   "source": [
    "documents = df['clean_text']\n",
    "g = wordtree.search_and_draw(corpus = documents, keyword = \"campaign\", max_n=5, max_per_n = 15)\n",
    "g.render('/media/s/Linux_storage/Analyse_Verkehrswende_Transformation/plots/Greenwashing/wordtree_campaign.png')"
   ]
  },
  {
   "cell_type": "code",
   "execution_count": 62,
   "id": "9001ce8f-e0aa-4e40-903f-c740f844b14c",
   "metadata": {
    "tags": []
   },
   "outputs": [
    {
     "data": {
      "application/vnd.jupyter.widget-view+json": {
       "model_id": "96ed95fced5249d1886e358cc285adb8",
       "version_major": 2,
       "version_minor": 0
      },
      "text/plain": [
       "  0%|          | 0/935965 [00:00<?, ?it/s]"
      ]
     },
     "metadata": {},
     "output_type": "display_data"
    },
    {
     "data": {
      "text/plain": [
       "'/media/s/Linux_storage/Analyse_Verkehrswende_Transformation/plots/Greenwashing/wordtree_truth.png.png'"
      ]
     },
     "execution_count": 62,
     "metadata": {},
     "output_type": "execute_result"
    }
   ],
   "source": [
    "documents = df['clean_text']\n",
    "g = wordtree.search_and_draw(corpus = documents, keyword = \"truth\", max_n=5, max_per_n = 15)\n",
    "g.render('/media/s/Linux_storage/Analyse_Verkehrswende_Transformation/plots/Greenwashing/wordtree_truth.png')"
   ]
  },
  {
   "cell_type": "code",
   "execution_count": 63,
   "id": "a72e28ca-1157-45b6-a087-a8c4d72acbe4",
   "metadata": {
    "tags": []
   },
   "outputs": [
    {
     "data": {
      "application/vnd.jupyter.widget-view+json": {
       "model_id": "4195ca56b2084a4fa53960c4b9163d68",
       "version_major": 2,
       "version_minor": 0
      },
      "text/plain": [
       "  0%|          | 0/935965 [00:00<?, ?it/s]"
      ]
     },
     "metadata": {},
     "output_type": "display_data"
    },
    {
     "data": {
      "text/plain": [
       "'/media/s/Linux_storage/Analyse_Verkehrswende_Transformation/plots/Greenwashing/wordtree_fake.png.png'"
      ]
     },
     "execution_count": 63,
     "metadata": {},
     "output_type": "execute_result"
    }
   ],
   "source": [
    "documents = df['clean_text']\n",
    "g = wordtree.search_and_draw(corpus = documents, keyword = \"fake\", max_n=5, max_per_n = 15)\n",
    "g.render('/media/s/Linux_storage/Analyse_Verkehrswende_Transformation/plots/Greenwashing/wordtree_fake.png')"
   ]
  },
  {
   "cell_type": "code",
   "execution_count": 64,
   "id": "d9b48b20-e4bf-4c33-87fd-0b907836c9ac",
   "metadata": {
    "tags": []
   },
   "outputs": [
    {
     "data": {
      "application/vnd.jupyter.widget-view+json": {
       "model_id": "110f6cc0d37a49b1883cfbe2c4b59522",
       "version_major": 2,
       "version_minor": 0
      },
      "text/plain": [
       "  0%|          | 0/935965 [00:00<?, ?it/s]"
      ]
     },
     "metadata": {},
     "output_type": "display_data"
    },
    {
     "data": {
      "text/plain": [
       "'/media/s/Linux_storage/Analyse_Verkehrswende_Transformation/plots/Greenwashing/wordtree_misleading.png.png'"
      ]
     },
     "execution_count": 64,
     "metadata": {},
     "output_type": "execute_result"
    }
   ],
   "source": [
    "documents = df['clean_text']\n",
    "g = wordtree.search_and_draw(corpus = documents, keyword = \"misleading\", max_n=5, max_per_n = 15)\n",
    "g.render('/media/s/Linux_storage/Analyse_Verkehrswende_Transformation/plots/Greenwashing/wordtree_misleading.png')"
   ]
  },
  {
   "cell_type": "code",
   "execution_count": 65,
   "id": "ef702e26-6b4a-45df-859a-a308ea4224f7",
   "metadata": {
    "tags": []
   },
   "outputs": [
    {
     "data": {
      "application/vnd.jupyter.widget-view+json": {
       "model_id": "85faa0ab2a0643ac8ad325a0022e8d48",
       "version_major": 2,
       "version_minor": 0
      },
      "text/plain": [
       "  0%|          | 0/935965 [00:00<?, ?it/s]"
      ]
     },
     "metadata": {},
     "output_type": "display_data"
    },
    {
     "data": {
      "text/plain": [
       "'/media/s/Linux_storage/Analyse_Verkehrswende_Transformation/plots/Greenwashing/wordtree_pinkwashing.png.png'"
      ]
     },
     "execution_count": 65,
     "metadata": {},
     "output_type": "execute_result"
    }
   ],
   "source": [
    "documents = df['clean_text']\n",
    "g = wordtree.search_and_draw(corpus = documents, keyword = \"pinkwashing\", max_n=5, max_per_n = 15)\n",
    "g.render('/media/s/Linux_storage/Analyse_Verkehrswende_Transformation/plots/Greenwashing/wordtree_pinkwashing.png')"
   ]
  },
  {
   "cell_type": "code",
   "execution_count": 66,
   "id": "45df823c-c2b3-49a9-8067-181af7a8a183",
   "metadata": {
    "tags": []
   },
   "outputs": [
    {
     "data": {
      "application/vnd.jupyter.widget-view+json": {
       "model_id": "29f5bddbc5a5415a855f166853cf7e90",
       "version_major": 2,
       "version_minor": 0
      },
      "text/plain": [
       "  0%|          | 0/935965 [00:00<?, ?it/s]"
      ]
     },
     "metadata": {},
     "output_type": "display_data"
    },
    {
     "data": {
      "text/plain": [
       "'/media/s/Linux_storage/Analyse_Verkehrswende_Transformation/plots/Greenwashing/wordtree_fact.png'"
      ]
     },
     "execution_count": 66,
     "metadata": {},
     "output_type": "execute_result"
    }
   ],
   "source": [
    "documents = df['clean_text']\n",
    "g = wordtree.search_and_draw(corpus = documents, keyword = \"fact\", max_n=5, max_per_n = 15)\n",
    "g.render('/media/s/Linux_storage/Analyse_Verkehrswende_Transformation/plots/Greenwashing/wordtree_fact')"
   ]
  },
  {
   "cell_type": "markdown",
   "id": "efda40d6-43c5-47cc-a56d-6e9f391064d5",
   "metadata": {},
   "source": [
    "## Slope charts\n",
    "Created with the help of [this ressource by Thiago Carvalho, while adding advancements.](https://towardsdatascience.com/slope-charts-with-pythons-matplotlib-2c3456c137b8) "
   ]
  },
  {
   "cell_type": "markdown",
   "id": "dfa971e5-edd0-4571-bf48-ba60620ceedf",
   "metadata": {},
   "source": [
    "### Single slope charts"
   ]
  },
  {
   "cell_type": "code",
   "execution_count": 52,
   "id": "cc681982-0c50-4bdb-98aa-0a302bf2077d",
   "metadata": {
    "tags": []
   },
   "outputs": [],
   "source": [
    "# Select two dates and transform dta from wide to long\n",
    "slope_event1 = keywords.resample('D').sum()\n",
    "slope_event1 = pd.concat([slope_event1.loc['2021-01-13':'2021-01-13'],\n",
    "                    slope_event1.loc['2021-01-25':'2021-01-25']]) #, slope_event1.loc['2021-05-03':'2021-05-03']])\n",
    "slope_event1 = slope_event1.reset_index()\n",
    "melted_event1 = slope_event1.melt(id_vars=['dates'])"
   ]
  },
  {
   "cell_type": "code",
   "execution_count": 63,
   "id": "6f1f96bf-4587-46ee-8243-a12f6ad2796f",
   "metadata": {
    "tags": []
   },
   "outputs": [],
   "source": [
    "# melted_event1"
   ]
  },
  {
   "cell_type": "code",
   "execution_count": 98,
   "id": "dc75e3c4-3b3f-4e9d-8931-176f0cf48d78",
   "metadata": {
    "tags": []
   },
   "outputs": [
    {
     "data": {
      "image/png": "[encoded data removed]",
      "text/plain": [
       "<Figure size 720x720 with 1 Axes>"
      ]
     },
     "metadata": {
      "needs_background": "light"
     },
     "output_type": "display_data"
    }
   ],
   "source": [
    "categories = ['protest', 'campaign', 'action']\n",
    "\n",
    "fig, ax = plt.subplots(1, figsize=(10,10))\n",
    "\n",
    "\n",
    "\n",
    "for i in categories:\n",
    "    df1 = melted_event1[melted_event1['variable'] == i]\n",
    "    plt.plot(df1.dates, df1.value, marker='o', markersize=5)\n",
    "    # To include labels left and right (mostly overlapping)\n",
    "    # texts = [plt.text(df1.dates.values[0], df1.value.values[0], i)] + [plt.text(df1.dates.values[1], df1.value.values[1], i, ha='right')]\n",
    "    # To include labels in the middle\n",
    "    \n",
    "    # To include numbers right\n",
    "    #plt.text(df1.dates.values[1], df1.value.values[1],\n",
    "     #        '{:,.2f}'.format(df1.value.values[1]), \n",
    "      #       va='center', ha='right')\n",
    "    \n",
    "    \n",
    "    # end label\n",
    "    #plt.text(df1.dates.values[0], df1.value.values[0], i)\n",
    "    # start label\n",
    "    #plt.text(df1.dates.values[1], df1.value.values[1], i, ha='right')\n",
    "\n",
    "ax.xaxis.grid(color='black', linestyle='solid', which='major', alpha=0.9)\n",
    "ax.yaxis.grid(color='black', linestyle='dashed', which='both', alpha=0.1)\n",
    "    \n",
    "# ax.set_xticks([pd.to_datetime(t) for t in ['2021-01-13','2021-01-25']])\n",
    "plt.xticks(('2021-01-13','2021-01-25'))\n",
    "plt.yticks((1, 5, 10, 15, 20))\n",
    "plt.xlim([pd.to_datetime(t) for t in ['2021-01-09','2021-01-29']])\n",
    "ax.spines['right'].set_visible(False)\n",
    "ax.spines['left'].set_visible(False)\n",
    "ax.spines['bottom'].set_visible(False)\n",
    "ax.spines['top'].set_visible(False)\n",
    "plt.legend(categories, loc='upper left', frameon=False)\n",
    "plt.title('Tweets per keyword: Events with spikes compared\\n', fontsize=15)\n",
    "#filename = input('Please give the file a name and avoid overriding\\n') + '.png'\n",
    "#plt.savefig('/media/s/Linux_storage/Analyse_Verkehrswende_Transformation/plots/Greenwashing/' + filename, dpi=300)\n",
    "plt.show()"
   ]
  },
  {
   "cell_type": "markdown",
   "id": "aa376951-0768-4ff1-8971-424e3a453db3",
   "metadata": {},
   "source": [
    "### Multiple slopes chart"
   ]
  },
  {
   "cell_type": "markdown",
   "id": "4169807c-3e61-4e8b-99e4-fb11db4c9110",
   "metadata": {},
   "source": [
    "Now let's experiment with three dimensions and compare three events. For this, I will create a new dataframe where dates are transformed into numbers, so that distances between date. are neutralized."
   ]
  },
  {
   "cell_type": "code",
   "execution_count": 55,
   "id": "ebbb51c7-3a2f-45f5-b916-d6fb4a3220d4",
   "metadata": {
    "tags": []
   },
   "outputs": [],
   "source": [
    "# This code is not working\n",
    "slope_event2 = keywords.resample('D').sum()\n",
    "melted_long = pd.concat([slope_event2.loc['2021-01-12':'2021-01-14'],\n",
    "                    slope_event2.loc['2021-01-24':'2021-01-26'], slope_event1.loc['2021-05-02':'2021-05-04']])\n",
    "melted_long = melted_long.reset_index()\n",
    "melted_long = melted_long.melt(id_vars=['dates'])\n",
    "\n",
    "\n",
    "#slope_event1 = keywords.resample('D').sum()\n",
    "#slope_event1 = pd.concat([slope_event1.loc['2021-01-13':'2021-01-13'],\n",
    "#                    slope_event1.loc['2021-01-25':'2021-01-25']]) #, slope_event1.loc['2021-05-03':'2021-05-03']])\n",
    "#slope_event1 = slope_event1.reset_index()\n",
    "#melted_event1 = slope_event1.melt(id_vars=['dates'])"
   ]
  },
  {
   "cell_type": "code",
   "execution_count": 105,
   "id": "cd4a6609-77dd-4b0a-8710-4385f5e04dc8",
   "metadata": {},
   "outputs": [],
   "source": [
    "# Reset the index for three dates\n",
    "slope_event1 = keywords.resample('D').sum()\n",
    "slope_event1 = pd.concat([slope_event1.loc['2020-11-16':'2020-11-16'],\n",
    "                    slope_event1.loc['2021-01-13':'2021-01-13'],\n",
    "                    slope_event1.loc['2021-01-25':'2021-01-25'], \n",
    "                    slope_event1.loc['2021-05-03':'2021-05-03'], \n",
    "                    slope_event1.loc['2021-04-22':'2021-04-22'],\n",
    "                    slope_event1.loc['2021-06-09':'2021-06-09']\n",
    "                         ])\n",
    "slope_event1 = slope_event1.reset_index()\n",
    "melted_long = slope_event1.melt(id_vars=['dates'])"
   ]
  },
  {
   "cell_type": "code",
   "execution_count": 58,
   "id": "19f2913b-2c3a-45e1-bc4b-98bb24be3443",
   "metadata": {
    "collapsed": true,
    "jupyter": {
     "outputs_hidden": true
    },
    "tags": []
   },
   "outputs": [
    {
     "data": {
      "text/html": [
       "<div>\n",
       "<style scoped>\n",
       "    .dataframe tbody tr th:only-of-type {\n",
       "        vertical-align: middle;\n",
       "    }\n",
       "\n",
       "    .dataframe tbody tr th {\n",
       "        vertical-align: top;\n",
       "    }\n",
       "\n",
       "    .dataframe thead th {\n",
       "        text-align: right;\n",
       "    }\n",
       "</style>\n",
       "<table border=\"1\" class=\"dataframe\">\n",
       "  <thead>\n",
       "    <tr style=\"text-align: right;\">\n",
       "      <th></th>\n",
       "      <th>dates</th>\n",
       "      <th>variable</th>\n",
       "      <th>value</th>\n",
       "    </tr>\n",
       "  </thead>\n",
       "  <tbody>\n",
       "    <tr>\n",
       "      <th>0</th>\n",
       "      <td>2021-01-13</td>\n",
       "      <td>protest</td>\n",
       "      <td>1</td>\n",
       "    </tr>\n",
       "    <tr>\n",
       "      <th>1</th>\n",
       "      <td>2021-01-25</td>\n",
       "      <td>protest</td>\n",
       "      <td>0</td>\n",
       "    </tr>\n",
       "    <tr>\n",
       "      <th>2</th>\n",
       "      <td>2021-05-03</td>\n",
       "      <td>protest</td>\n",
       "      <td>0</td>\n",
       "    </tr>\n",
       "    <tr>\n",
       "      <th>3</th>\n",
       "      <td>2021-01-13</td>\n",
       "      <td>misinformation</td>\n",
       "      <td>0</td>\n",
       "    </tr>\n",
       "    <tr>\n",
       "      <th>4</th>\n",
       "      <td>2021-01-25</td>\n",
       "      <td>misinformation</td>\n",
       "      <td>0</td>\n",
       "    </tr>\n",
       "    <tr>\n",
       "      <th>5</th>\n",
       "      <td>2021-05-03</td>\n",
       "      <td>misinformation</td>\n",
       "      <td>0</td>\n",
       "    </tr>\n",
       "    <tr>\n",
       "      <th>6</th>\n",
       "      <td>2021-01-13</td>\n",
       "      <td>accountability</td>\n",
       "      <td>0</td>\n",
       "    </tr>\n",
       "    <tr>\n",
       "      <th>7</th>\n",
       "      <td>2021-01-25</td>\n",
       "      <td>accountability</td>\n",
       "      <td>0</td>\n",
       "    </tr>\n",
       "    <tr>\n",
       "      <th>8</th>\n",
       "      <td>2021-05-03</td>\n",
       "      <td>accountability</td>\n",
       "      <td>1</td>\n",
       "    </tr>\n",
       "    <tr>\n",
       "      <th>9</th>\n",
       "      <td>2021-01-13</td>\n",
       "      <td>campaign</td>\n",
       "      <td>1</td>\n",
       "    </tr>\n",
       "    <tr>\n",
       "      <th>10</th>\n",
       "      <td>2021-01-25</td>\n",
       "      <td>campaign</td>\n",
       "      <td>3</td>\n",
       "    </tr>\n",
       "    <tr>\n",
       "      <th>11</th>\n",
       "      <td>2021-05-03</td>\n",
       "      <td>campaign</td>\n",
       "      <td>6</td>\n",
       "    </tr>\n",
       "    <tr>\n",
       "      <th>12</th>\n",
       "      <td>2021-01-13</td>\n",
       "      <td>truth</td>\n",
       "      <td>15</td>\n",
       "    </tr>\n",
       "    <tr>\n",
       "      <th>13</th>\n",
       "      <td>2021-01-25</td>\n",
       "      <td>truth</td>\n",
       "      <td>19</td>\n",
       "    </tr>\n",
       "    <tr>\n",
       "      <th>14</th>\n",
       "      <td>2021-05-03</td>\n",
       "      <td>truth</td>\n",
       "      <td>7</td>\n",
       "    </tr>\n",
       "    <tr>\n",
       "      <th>15</th>\n",
       "      <td>2021-01-13</td>\n",
       "      <td>fact</td>\n",
       "      <td>3</td>\n",
       "    </tr>\n",
       "    <tr>\n",
       "      <th>16</th>\n",
       "      <td>2021-01-25</td>\n",
       "      <td>fact</td>\n",
       "      <td>3</td>\n",
       "    </tr>\n",
       "    <tr>\n",
       "      <th>17</th>\n",
       "      <td>2021-05-03</td>\n",
       "      <td>fact</td>\n",
       "      <td>2</td>\n",
       "    </tr>\n",
       "    <tr>\n",
       "      <th>18</th>\n",
       "      <td>2021-01-13</td>\n",
       "      <td>fake</td>\n",
       "      <td>8</td>\n",
       "    </tr>\n",
       "    <tr>\n",
       "      <th>19</th>\n",
       "      <td>2021-01-25</td>\n",
       "      <td>fake</td>\n",
       "      <td>1</td>\n",
       "    </tr>\n",
       "    <tr>\n",
       "      <th>20</th>\n",
       "      <td>2021-05-03</td>\n",
       "      <td>fake</td>\n",
       "      <td>3</td>\n",
       "    </tr>\n",
       "    <tr>\n",
       "      <th>21</th>\n",
       "      <td>2021-01-13</td>\n",
       "      <td>misleading</td>\n",
       "      <td>4</td>\n",
       "    </tr>\n",
       "    <tr>\n",
       "      <th>22</th>\n",
       "      <td>2021-01-25</td>\n",
       "      <td>misleading</td>\n",
       "      <td>2</td>\n",
       "    </tr>\n",
       "    <tr>\n",
       "      <th>23</th>\n",
       "      <td>2021-05-03</td>\n",
       "      <td>misleading</td>\n",
       "      <td>1</td>\n",
       "    </tr>\n",
       "    <tr>\n",
       "      <th>24</th>\n",
       "      <td>2021-01-13</td>\n",
       "      <td>pinkwashing</td>\n",
       "      <td>0</td>\n",
       "    </tr>\n",
       "    <tr>\n",
       "      <th>25</th>\n",
       "      <td>2021-01-25</td>\n",
       "      <td>pinkwashing</td>\n",
       "      <td>1</td>\n",
       "    </tr>\n",
       "    <tr>\n",
       "      <th>26</th>\n",
       "      <td>2021-05-03</td>\n",
       "      <td>pinkwashing</td>\n",
       "      <td>1</td>\n",
       "    </tr>\n",
       "    <tr>\n",
       "      <th>27</th>\n",
       "      <td>2021-01-13</td>\n",
       "      <td>action</td>\n",
       "      <td>6</td>\n",
       "    </tr>\n",
       "    <tr>\n",
       "      <th>28</th>\n",
       "      <td>2021-01-25</td>\n",
       "      <td>action</td>\n",
       "      <td>54</td>\n",
       "    </tr>\n",
       "    <tr>\n",
       "      <th>29</th>\n",
       "      <td>2021-05-03</td>\n",
       "      <td>action</td>\n",
       "      <td>6</td>\n",
       "    </tr>\n",
       "    <tr>\n",
       "      <th>30</th>\n",
       "      <td>2021-01-13</td>\n",
       "      <td>marketing</td>\n",
       "      <td>9</td>\n",
       "    </tr>\n",
       "    <tr>\n",
       "      <th>31</th>\n",
       "      <td>2021-01-25</td>\n",
       "      <td>marketing</td>\n",
       "      <td>8</td>\n",
       "    </tr>\n",
       "    <tr>\n",
       "      <th>32</th>\n",
       "      <td>2021-05-03</td>\n",
       "      <td>marketing</td>\n",
       "      <td>10</td>\n",
       "    </tr>\n",
       "    <tr>\n",
       "      <th>33</th>\n",
       "      <td>2021-01-13</td>\n",
       "      <td>rights</td>\n",
       "      <td>0</td>\n",
       "    </tr>\n",
       "    <tr>\n",
       "      <th>34</th>\n",
       "      <td>2021-01-25</td>\n",
       "      <td>rights</td>\n",
       "      <td>0</td>\n",
       "    </tr>\n",
       "    <tr>\n",
       "      <th>35</th>\n",
       "      <td>2021-05-03</td>\n",
       "      <td>rights</td>\n",
       "      <td>1</td>\n",
       "    </tr>\n",
       "    <tr>\n",
       "      <th>36</th>\n",
       "      <td>2021-01-13</td>\n",
       "      <td>advertising</td>\n",
       "      <td>4</td>\n",
       "    </tr>\n",
       "    <tr>\n",
       "      <th>37</th>\n",
       "      <td>2021-01-25</td>\n",
       "      <td>advertising</td>\n",
       "      <td>2</td>\n",
       "    </tr>\n",
       "    <tr>\n",
       "      <th>38</th>\n",
       "      <td>2021-05-03</td>\n",
       "      <td>advertising</td>\n",
       "      <td>7</td>\n",
       "    </tr>\n",
       "  </tbody>\n",
       "</table>\n",
       "</div>"
      ],
      "text/plain": [
       "        dates        variable  value\n",
       "0  2021-01-13         protest      1\n",
       "1  2021-01-25         protest      0\n",
       "2  2021-05-03         protest      0\n",
       "3  2021-01-13  misinformation      0\n",
       "4  2021-01-25  misinformation      0\n",
       "5  2021-05-03  misinformation      0\n",
       "6  2021-01-13  accountability      0\n",
       "7  2021-01-25  accountability      0\n",
       "8  2021-05-03  accountability      1\n",
       "9  2021-01-13        campaign      1\n",
       "10 2021-01-25        campaign      3\n",
       "11 2021-05-03        campaign      6\n",
       "12 2021-01-13           truth     15\n",
       "13 2021-01-25           truth     19\n",
       "14 2021-05-03           truth      7\n",
       "15 2021-01-13            fact      3\n",
       "16 2021-01-25            fact      3\n",
       "17 2021-05-03            fact      2\n",
       "18 2021-01-13            fake      8\n",
       "19 2021-01-25            fake      1\n",
       "20 2021-05-03            fake      3\n",
       "21 2021-01-13      misleading      4\n",
       "22 2021-01-25      misleading      2\n",
       "23 2021-05-03      misleading      1\n",
       "24 2021-01-13     pinkwashing      0\n",
       "25 2021-01-25     pinkwashing      1\n",
       "26 2021-05-03     pinkwashing      1\n",
       "27 2021-01-13          action      6\n",
       "28 2021-01-25          action     54\n",
       "29 2021-05-03          action      6\n",
       "30 2021-01-13       marketing      9\n",
       "31 2021-01-25       marketing      8\n",
       "32 2021-05-03       marketing     10\n",
       "33 2021-01-13          rights      0\n",
       "34 2021-01-25          rights      0\n",
       "35 2021-05-03          rights      1\n",
       "36 2021-01-13     advertising      4\n",
       "37 2021-01-25     advertising      2\n",
       "38 2021-05-03     advertising      7"
      ]
     },
     "execution_count": 58,
     "metadata": {},
     "output_type": "execute_result"
    }
   ],
   "source": [
    "melted_long"
   ]
  },
  {
   "cell_type": "code",
   "execution_count": 143,
   "id": "38db4093-26b4-4ecd-a45b-3f452355400b",
   "metadata": {},
   "outputs": [
    {
     "name": "stdin",
     "output_type": "stream",
     "text": [
      "Please give the file a name and avoid overriding\n",
      " Greenwashing_alldates_slope_truth\n"
     ]
    },
    {
     "data": {
      "image/png": "[encoded data removed]",
      "text/plain": [
       "<Figure size 864x720 with 1 Axes>"
      ]
     },
     "metadata": {
      "needs_background": "light"
     },
     "output_type": "display_data"
    }
   ],
   "source": [
    "categories = ['misinformation', 'truth', 'fact', 'fake', 'misleading']\n",
    "# select from:          'misinformation':misinformation,\n",
    "#                        'accountability':accountability,\n",
    "#                        'campaign':campaign,\n",
    "#                        'truth':truth,\n",
    "#                        'fact':fact,\n",
    "#                        'fake':fake,\n",
    "#                        'misleading':misleading,\n",
    "#                        'pinkwashing':pinkwashing,\n",
    "#                        'action':action,\n",
    "#                        'marketing':marketing,\n",
    "#                        'rights':rights,\n",
    "#                        'advertising':advertising,\n",
    "\n",
    "# Add colours to highlight only diverting graphs\n",
    "# colors = ['#f3e798', '#477998', '#291F1E', '#BC9CB0', '#f3e798', '#f3e798', '#f3e798']\n",
    "fig, ax = plt.subplots(1, figsize=(12,10))\n",
    "\n",
    "x= ['2020-11-16', '2021-01-13', '2021-01-25', '2021-04-22', '2021-05-03', '2021-06-09'] # This is manually added and circumvents datatime interpretation by matplotlib\n",
    "\n",
    "for i in categories:\n",
    "    df1 = melted_long[melted_long['variable'] == i]\n",
    "    plt.plot(x, df1.value, marker='o', markersize=5)\n",
    "    \n",
    "    # Add labels, but mind overlapping issues\n",
    "    # end label\n",
    "    #plt.text(x[0], df1.value.values[0], i, ha='right')\n",
    "    # start label\n",
    "    #plt.text(x[5], df1.value.values[5], i, ha='left')\n",
    "    # mid label\n",
    "    #plt.text(x[1], df1.value.values[1], i, ha='left')\n",
    "    \n",
    "# Some alternative options that could be used for datetimes    \n",
    "# ax.set_xticks([pd.to_datetime(t) for t in ['2021-01-13','2021-01-25']])\n",
    "#plt.xticks(('2021-01-13', '2021-01-25', '2021-05-03'))\n",
    "#plt.yticks((5, 10, 15, 20))\n",
    "plt.xlim(-2,7)\n",
    "\n",
    "ax.xaxis.grid(color='black', linestyle='solid', which='major', alpha=0.9)\n",
    "ax.yaxis.grid(color='black', linestyle='dashed', which='both', alpha=0.1)\n",
    "\n",
    "\n",
    "# plt.axes(frameon=False)\n",
    "ax.spines['right'].set_visible(False)\n",
    "ax.spines['left'].set_visible(False)\n",
    "ax.spines['bottom'].set_visible(False)\n",
    "ax.spines['top'].set_visible(False)\n",
    "plt.legend(categories, loc='upper left', frameon=True)\n",
    "plt.title('Tweets per keyword: Events and their hierarchies compared\\n', fontsize=15)\n",
    "plt.xticks(rotation=35)\n",
    "ax.text(-1.7, -2, 'Note:\\nThe x axis\\nis not\\ntrue to scale', fontsize=12, color='grey')\n",
    "filename = input('Please give the file a name and avoid overriding\\n') + '.png'\n",
    "plt.savefig('/media/s/Linux_storage/Analyse_Verkehrswende_Transformation/plots/Greenwashing/' + filename, dpi=300)\n",
    "plt.show()"
   ]
  }
 ],
 "metadata": {
  "kernelspec": {
   "display_name": "Python 3",
   "language": "python",
   "name": "python3"
  },
  "language_info": {
   "codemirror_mode": {
    "name": "ipython",
    "version": 3
   },
   "file_extension": ".py",
   "mimetype": "text/x-python",
   "name": "python",
   "nbconvert_exporter": "python",
   "pygments_lexer": "ipython3",
   "version": "3.8.10"
  }
 },
 "nbformat": 4,
 "nbformat_minor": 5
}
